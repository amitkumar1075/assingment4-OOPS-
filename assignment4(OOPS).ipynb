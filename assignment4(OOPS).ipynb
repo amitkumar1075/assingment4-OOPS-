{
 "cells": [
  {
   "cell_type": "markdown",
   "id": "cf2cefae-d3c0-442c-97a8-c54d650040e2",
   "metadata": {},
   "source": [
    "**OOPS theory questions**"
   ]
  },
  {
   "cell_type": "code",
   "execution_count": 2,
   "id": "0fcd4515-826b-4a43-b906-731f99676e7e",
   "metadata": {},
   "outputs": [],
   "source": [
    "#1. What is Object-Oriented Programming (OOP)?\n",
    "\n",
    "#ans.>> OOPS is the programe in which cerated a object first , in which they contain data/attributs and functions/methods \n",
    "#       in the concept of OOPS it allows reusability ,abstractions,modulity "
   ]
  },
  {
   "cell_type": "code",
   "execution_count": 4,
   "id": "1d2c9d8e-c268-4dd6-ae72-82ba09593a53",
   "metadata": {},
   "outputs": [],
   "source": [
    "#2. What is a class in OOP?\n",
    "\n",
    "#ans.>> class is the main the object under which we cerate sub-class objects . and it define the behaviour and structure of such sub-class from which class it related"
   ]
  },
  {
   "cell_type": "code",
   "execution_count": 6,
   "id": "593527e4-4a47-443b-acb5-0c8c497a5bd8",
   "metadata": {},
   "outputs": [],
   "source": [
    "#3. What is an object in OOP?\n",
    "\n",
    "#ans.>> An object is an instance of a class. It has its own data and can use the methods defined in the class.\n",
    "#       object in class the like sub-class of such class we can recall it  ."
   ]
  },
  {
   "cell_type": "code",
   "execution_count": 8,
   "id": "77f9d2fd-b79a-4756-93fc-fd3d2379a230",
   "metadata": {},
   "outputs": [],
   "source": [
    "#4. Difference between Abstraction and Encapsulation?\n",
    "\n",
    "#ans.>> Abstraction : it this it hide the complex implementations(unneed details) like backend details and exposing the required details like seeing only inerface\n",
    "#      Encapsulation : bundling of data and method of class , use of access modifier - pubic , private , protected "
   ]
  },
  {
   "cell_type": "code",
   "execution_count": 10,
   "id": "54d44a25-c251-435d-a2ed-8a539a4eccd3",
   "metadata": {},
   "outputs": [],
   "source": [
    "#5. What are dunder methods in Python?\n",
    "\n",
    "#ans.>> dunder method are the methods define by built-in classes in python ,class define these type of method for cerating custom objects and data for every object"
   ]
  },
  {
   "cell_type": "code",
   "execution_count": 12,
   "id": "35b442c5-67dd-49ab-b759-67dfa99beac5",
   "metadata": {},
   "outputs": [],
   "source": [
    "# 6. Explain the concept of Inheritance in OOP\n",
    "\n",
    "#ans.>> it refers to process of child reciving the proerty of parent class "
   ]
  },
  {
   "cell_type": "code",
   "execution_count": 14,
   "id": "be774a9f-c974-453c-b781-551335f57002",
   "metadata": {},
   "outputs": [],
   "source": [
    "#7. What is Polymorphism in OOP?\n",
    "\n",
    "#ans.>> refers to an object taking servel from depending on the method/data , \n",
    "#       function taking different form with respect to different data passed "
   ]
  },
  {
   "cell_type": "code",
   "execution_count": 16,
   "id": "4ea420fd-176b-4b91-87e6-527b4499699c",
   "metadata": {},
   "outputs": [],
   "source": [
    "#8. How is encapsulation achieved in Python?\n",
    "\n",
    "#ans.>> public : means access data and method from inside or outside the class\n",
    "#       private : means access data and method from only within the class(__)\n",
    "#       protected : within the class and its sub-class protected member can be accessed(_)"
   ]
  },
  {
   "cell_type": "code",
   "execution_count": 18,
   "id": "b6fe9f66-945a-41f1-be98-6b1f171baf6a",
   "metadata": {},
   "outputs": [],
   "source": [
    "#9. What is a constructor in Python?\n",
    "\n",
    "#ans.>>A constructor is the __init__ method, automatically called when an object is created."
   ]
  },
  {
   "cell_type": "code",
   "execution_count": 20,
   "id": "78180ed7-d0a4-49e8-addb-af4e8b2e3201",
   "metadata": {},
   "outputs": [],
   "source": [
    "#10. What are class and static methods in Python?\n",
    "\n",
    "#ans.>> class method : in class method we can access/modify methods and attributes accosiated to class,bound to class(not to a prticular instance of class\n",
    "#       static method : it doesn't modify/access class or instance state , it doesn't depend upon class or instance"
   ]
  },
  {
   "cell_type": "code",
   "execution_count": 24,
   "id": "66fc845b-7f46-4f1d-9681-defbd27001d9",
   "metadata": {},
   "outputs": [],
   "source": [
    "#11. What is method overloading in Python?\n",
    "\n",
    "#ans.>> when any method is an alternative of  the any other method so it is called overloading of methods ,\n",
    "#       Python doesn't support traditional overloading, but you can simulate it using default arguments."
   ]
  },
  {
   "cell_type": "code",
   "execution_count": 26,
   "id": "a58a776e-f24a-4532-830f-41fa18790285",
   "metadata": {},
   "outputs": [],
   "source": [
    "#12. What is method overriding in OOP?\n",
    "\n",
    "#ans.>> method in parent class and child class with same signature , the child class method will be execuded"
   ]
  },
  {
   "cell_type": "code",
   "execution_count": 30,
   "id": "69c6e3c5-f607-43c2-b327-8725e436ceba",
   "metadata": {},
   "outputs": [],
   "source": [
    "#13. What is a property decorator in Python?\n",
    "\n",
    "#ans.>> it allows the method to be accessed as attribute/property/data\n",
    "#       Used to create read-only or controlled-access attributes"
   ]
  },
  {
   "cell_type": "code",
   "execution_count": 32,
   "id": "05279ad7-425c-4ef2-aaca-076d48d89335",
   "metadata": {},
   "outputs": [],
   "source": [
    "#14. Why is polymorphism important in OOP?\n",
    "\n",
    "#ans.>> it provide flexibility and resablity that we can call same method on different object"
   ]
  },
  {
   "cell_type": "code",
   "execution_count": 34,
   "id": "6ebeafe7-2bc0-4441-8380-8db6f7056924",
   "metadata": {},
   "outputs": [],
   "source": [
    "# 15. What is an abstract class in Python?\n",
    "\n",
    "#ans.>> abstraction can be achived by using abstract class for which we need to import abc module"
   ]
  },
  {
   "cell_type": "code",
   "execution_count": 36,
   "id": "27269f16-1d45-454e-bdde-ec759998c798",
   "metadata": {},
   "outputs": [],
   "source": [
    "#16. What are the advantages of OOP?\n",
    "\n",
    "#ans.>> these are the advantages of oops:-\n",
    "#    1.Maintainability\n",
    "#    2.Reusability\n",
    "#    3.Modularity\n",
    "#    4.Scalability"
   ]
  },
  {
   "cell_type": "code",
   "execution_count": 38,
   "id": "3ff30561-c670-4ebb-86b4-15021f4d5d93",
   "metadata": {},
   "outputs": [],
   "source": [
    "#17. What is multiple inheritance in Python?\n",
    "\n",
    "#ans.>> when child class is having more then one parent class inheritance"
   ]
  },
  {
   "cell_type": "code",
   "execution_count": 40,
   "id": "85ff5115-e9a8-4958-9d33-3c6680e6ef0d",
   "metadata": {},
   "outputs": [],
   "source": [
    "#18. Class variable vs Instance variable\n",
    "\n",
    "#ans.>>Class variable: Shared across all instances\n",
    "#     Instance variable: Unique to each object"
   ]
  },
  {
   "cell_type": "code",
   "execution_count": 54,
   "id": "c2d4e732-084c-49ed-a436-3446b43b27f3",
   "metadata": {},
   "outputs": [],
   "source": [
    "#19. Purpose of __str__ and __repr__\n",
    "\n",
    "#ans.>> __str__ are User-friendly representation.\n",
    "#      __repr__ are Developer-friendly, unambiguous.\n",
    "\n"
   ]
  },
  {
   "cell_type": "code",
   "execution_count": 42,
   "id": "58624ed9-5165-4ed2-88c6-1677c96c029c",
   "metadata": {},
   "outputs": [],
   "source": [
    "# 20. Significance of super()\n",
    "\n",
    "#ans.>> super() is used to call parent class method in child class"
   ]
  },
  {
   "cell_type": "code",
   "execution_count": 44,
   "id": "b4a6739c-f728-46d5-a581-fc4a790de09a",
   "metadata": {},
   "outputs": [],
   "source": [
    "#21. Purpose of __del__ method\n",
    "\n",
    "#ans.>> we Call __del__ method when an object is deleted. Rarely used , used for cleanup."
   ]
  },
  {
   "cell_type": "code",
   "execution_count": 48,
   "id": "20fd1b1d-e0df-488b-b823-986d32d4f762",
   "metadata": {},
   "outputs": [],
   "source": [
    "#22. Difference between @staticmethod and @classmethod\n",
    "\n",
    "#ans.>> staticmethod : No access to class or instance (self, cls)\n",
    "#       classmethod : Access to the class (cls)"
   ]
  },
  {
   "cell_type": "code",
   "execution_count": 50,
   "id": "39754867-56b3-429e-9e33-e03f1c7195cf",
   "metadata": {},
   "outputs": [],
   "source": [
    "#23. How does polymorphism work in Python with inheritance?\n",
    "\n",
    "#ans.>> there are two methods by which polymorphism works :-\n",
    "#    1. overloading : overloading doesn't support in python\n",
    "#    2 overriding : method in parent class and child class with same signature , the child class method will be execuded"
   ]
  },
  {
   "cell_type": "code",
   "execution_count": 52,
   "id": "aa464956-c6c4-467c-ab10-d023c18e9450",
   "metadata": {},
   "outputs": [],
   "source": [
    "#24. What is method chaining in Python OOP?\n",
    "\n",
    "#ans.>> chaining is the the mothod when we call multipule methods in one line"
   ]
  },
  {
   "cell_type": "code",
   "execution_count": null,
   "id": "b8f16d0e-0e43-4de6-b771-04a51ffbd300",
   "metadata": {},
   "outputs": [],
   "source": [
    "#25. Purpose of __call__ method\n",
    "\n",
    "#ans.>> __call__ is used when we want to make a object like a function which is callable"
   ]
  },
  {
   "cell_type": "markdown",
   "id": "492289ba-8071-4fc3-afeb-31ed42796ee6",
   "metadata": {},
   "source": [
    "**practical questions**"
   ]
  },
  {
   "cell_type": "code",
   "execution_count": 81,
   "id": "fe43ff9b-c9e4-4590-977d-b4b89bbacdd3",
   "metadata": {},
   "outputs": [
    {
     "name": "stdout",
     "output_type": "stream",
     "text": [
      "Bark!\n"
     ]
    }
   ],
   "source": [
    "#1. Create a parent class Animal with a method speak() that prints a generic message. Create a child class Dog that overrides the speak() method to print \"Bark!\".\n",
    "\n",
    "class Animal:\n",
    "    def speak(self):\n",
    "        print(\"The animal makes a sound.\")\n",
    "\n",
    "class Dog(Animal):\n",
    "    def speak(self):\n",
    "        print(\"Bark!\")\n",
    "\n",
    "d = Dog()\n",
    "d.speak()"
   ]
  },
  {
   "cell_type": "code",
   "execution_count": 83,
   "id": "da23bbe1-8f54-4795-9705-0f63fe284f7e",
   "metadata": {},
   "outputs": [
    {
     "name": "stdout",
     "output_type": "stream",
     "text": [
      "Circle Area: 78.53981633974483\n",
      "Rectangle Area: 24\n"
     ]
    }
   ],
   "source": [
    "#2. Write a program to create an abstract class Shape with a method area(). Derive classes Circle and Rectangle from it and implement the area() method in both.\n",
    "\n",
    "from abc import ABC, abstractmethod\n",
    "import math\n",
    "\n",
    "class Shape(ABC):\n",
    "    @abstractmethod\n",
    "    def area(self):\n",
    "        pass\n",
    "\n",
    "class Circle(Shape):\n",
    "    def __init__(self, radius):\n",
    "        self.radius = radius\n",
    "\n",
    "    def area(self):\n",
    "        return math.pi * self.radius * self.radius\n",
    "\n",
    "class Rectangle(Shape):\n",
    "    def __init__(self, length, width):\n",
    "        self.length = length\n",
    "        self.width = width\n",
    "\n",
    "    def area(self):\n",
    "        return self.length * self.width\n",
    "\n",
    "c = Circle(5)\n",
    "r = Rectangle(4, 6)\n",
    "print(\"Circle Area:\", c.area())\n",
    "print(\"Rectangle Area:\", r.area())\n"
   ]
  },
  {
   "cell_type": "code",
   "execution_count": 91,
   "id": "131fefac-2165-4ee3-b180-763833635c3e",
   "metadata": {},
   "outputs": [
    {
     "name": "stdout",
     "output_type": "stream",
     "text": [
      "car\n",
      "tata motors\n",
      "225kwh\n"
     ]
    }
   ],
   "source": [
    "#3. Implement a multi-level inheritance scenario where a class Vehicle has an attribute type. Derive a class Car and further derive a class ElectricCar that adds a battery attribute.\n",
    "\n",
    "class Vehicle:\n",
    "    def __init__(self, type):\n",
    "        self.type = type\n",
    "\n",
    "class Car(Vehicle):\n",
    "    def __init__(self, type, brand):\n",
    "        self.type = type\n",
    "        self.brand = brand\n",
    "\n",
    "class ElectricCar(Car):\n",
    "    def __init__(self, type, brand, battery):\n",
    "        self.type = type\n",
    "        self.brand = brand\n",
    "        self.battery = battery\n",
    "\n",
    "ev_car = ElectricCar(\"car\",\"tata motors\",\"225kwh\")\n",
    "print(ev_car.type)\n",
    "print(ev_car.brand)\n",
    "print(ev_car.battery)\n"
   ]
  },
  {
   "cell_type": "code",
   "execution_count": 101,
   "id": "680ca0f2-e408-4b59-80aa-042ccb290731",
   "metadata": {},
   "outputs": [
    {
     "name": "stdout",
     "output_type": "stream",
     "text": [
      "bird is flying\n",
      "sparrow fly's high\n",
      "pengiun can't fly\n"
     ]
    }
   ],
   "source": [
    "#4. Demonstrate polymorphism by creating a base class Bird with a method fly(). Create two derived classes Sparrow and Penguin that override the fly() method. \n",
    "\n",
    "\n",
    "class bird:\n",
    "    def fly(self):\n",
    "        print(\"bird is flying\")\n",
    "\n",
    "class sparrow(bird):\n",
    "    def fly(self):\n",
    "        print(\"sparrow fly's high\")\n",
    "\n",
    "class penguin(bird):\n",
    "    def fly(self):\n",
    "        print(\"pengiun can't fly\")\n",
    "\n",
    "b = bird()\n",
    "s = sparrow()\n",
    "p = penguin()\n",
    "\n",
    "b.fly()\n",
    "s.fly()\n",
    "p.fly()\n"
   ]
  },
  {
   "cell_type": "code",
   "execution_count": 125,
   "id": "5eff351f-2c73-44d8-b3d2-0ea8d2960010",
   "metadata": {},
   "outputs": [
    {
     "data": {
      "text/plain": [
       "8000"
      ]
     },
     "execution_count": 125,
     "metadata": {},
     "output_type": "execute_result"
    }
   ],
   "source": [
    "#5. Write a program to demonstrate encapsulation by creating a class BankAccount with private attributes balance and methods to deposit, withdraw, and check balance.\n",
    "\n",
    "class bank_account:\n",
    "    def __init__(self,balance):\n",
    "        self.__balance = balance\n",
    "        \n",
    "    def deposit(self,amount):\n",
    "        if amount>0:\n",
    "            self.__balance = self.__balance+amount\n",
    "        else:\n",
    "            print(\" enter a valid amount\")\n",
    "\n",
    "    def withdraw(self,amount):\n",
    "         if amount<= self.__balance:\n",
    "             self.__balance = self.__balance-amount\n",
    "         else:\n",
    "             print(\" balance is not sufficient to withdraw this amount\")\n",
    "\n",
    "    def get_balance(self):\n",
    "          return self.__balance\n",
    "\n",
    "account1 = bank_account(3000)\n",
    "account1.deposit(10000)\n",
    "account1.withdraw(5000)\n",
    "account1.get_balance()\n",
    "        "
   ]
  },
  {
   "cell_type": "code",
   "execution_count": 133,
   "id": "4259a7c8-a93c-4dea-8761-68473db42928",
   "metadata": {},
   "outputs": [
    {
     "name": "stdout",
     "output_type": "stream",
     "text": [
      "now all instruments is playing music\n",
      "guitar is playing C-Sharp\n",
      "piano is playing G-Minor\n"
     ]
    }
   ],
   "source": [
    "#6. Demonstrate runtime polymorphism using a method play() in a base class Instrument. Derive classes Guitar and Piano that implement their own version of play()\n",
    "\n",
    "class instrument:\n",
    "    def play(self):\n",
    "        print(\"now all instruments is playing music\")\n",
    "\n",
    "class guitar(instrument):\n",
    "    def play(self):\n",
    "        print(\"guitar is playing C-Sharp\")\n",
    "\n",
    "class piano(instrument):\n",
    "    def play(self):\n",
    "        print(\"piano is playing G-Minor\")\n",
    "\n",
    "i = instrument()\n",
    "g =guitar()\n",
    "p = piano()\n",
    "\n",
    "i.play()\n",
    "g.play()\n",
    "p.play()"
   ]
  },
  {
   "cell_type": "code",
   "execution_count": 137,
   "id": "bbb791ab-c806-42d3-8033-24b2b53c176a",
   "metadata": {},
   "outputs": [
    {
     "name": "stdout",
     "output_type": "stream",
     "text": [
      "addition : 22\n",
      "subtraction : 7\n"
     ]
    }
   ],
   "source": [
    "#7. Create a class MathOperations with a class method add_numbers() to add two numbers and a static method subtract_numbers() to subtract two numbers.\n",
    "\n",
    "class MathOperations:\n",
    "    @classmethod\n",
    "    def add_num(cls,a,b):\n",
    "        return a+b\n",
    "    @staticmethod\n",
    "    def subtract_num(a,b):\n",
    "        return a-b\n",
    "\n",
    "print(\"addition :\",MathOperations.add_num(10,12))\n",
    "print(\"subtraction :\" ,MathOperations.subtract_num(20,13))"
   ]
  },
  {
   "cell_type": "code",
   "execution_count": 144,
   "id": "2d6f593e-91e1-4e7b-bae2-8c3195b1cfde",
   "metadata": {},
   "outputs": [
    {
     "name": "stdout",
     "output_type": "stream",
     "text": [
      "total no. of persons : 4\n"
     ]
    }
   ],
   "source": [
    "#8. Implement a class Person with a class method to count the total number of persons created.\n",
    "\n",
    "class person:\n",
    "    no_of_person = 0\n",
    "    \n",
    "    def __init__(self,name):\n",
    "        self.name = name\n",
    "        person.no_of_person=person.no_of_person+1\n",
    "        \n",
    "    @classmethod\n",
    "    def total_persons(cls):\n",
    "        return cls.no_of_person\n",
    "\n",
    "p1 = person(\"amit\")\n",
    "p2 = person(\"ajit\")\n",
    "p3 = person(\"sandhya\")\n",
    "p4 = person(\"khushi\")\n",
    "\n",
    "print(\"total no. of persons :\", person.total_persons())"
   ]
  },
  {
   "cell_type": "code",
   "execution_count": 162,
   "id": "640f60f9-8b32-4a80-98a5-4435ccebbb34",
   "metadata": {},
   "outputs": [
    {
     "name": "stdout",
     "output_type": "stream",
     "text": [
      "fraction is : 10/15\n"
     ]
    }
   ],
   "source": [
    "#9. Write a class Fraction with attributes numerator and denominator. Override the str method to display the fraction as \"numerator/denominator\".\n",
    "\n",
    "class fraction:\n",
    "    def __init__(self,numerator,denominator):\n",
    "        self.numerator=numerator\n",
    "        self.denominator=denominator\n",
    "    \n",
    "    def __str__(self):\n",
    "        return (f\"{self.numerator}/{self.denominator}\")\n",
    "\n",
    "\n",
    "f1 = fraction(10,15)\n",
    "print(\"fraction is :\",f1)"
   ]
  },
  {
   "cell_type": "code",
   "execution_count": 170,
   "id": "144c7096-b6c0-4023-b9c7-0ed738540bef",
   "metadata": {},
   "outputs": [
    {
     "name": "stdout",
     "output_type": "stream",
     "text": [
      "vector addition is : 33 , 32 \n"
     ]
    }
   ],
   "source": [
    "#10. Demonstrate operator overloading by creating a class Vector and overriding the add method to add two vectors.\n",
    "\n",
    "class vector:\n",
    "    def __init__(self,x,y):\n",
    "        self.x=x\n",
    "        self.y=y\n",
    "        \n",
    "    def __add__(self,other):\n",
    "        return vector(self.x+other.x , self.y+other.y)\n",
    "        \n",
    "    def __str__(self):\n",
    "        return (f\"{self.x} , {self.y} \")\n",
    "\n",
    "v1 = vector(10,20)\n",
    "v2 = vector(23,12)\n",
    "v3 = (v1+v2)\n",
    "print(\"vector addition is :\",v3)"
   ]
  },
  {
   "cell_type": "code",
   "execution_count": 172,
   "id": "225f95ed-64df-428e-8323-eb9c7892e780",
   "metadata": {},
   "outputs": [
    {
     "name": "stdout",
     "output_type": "stream",
     "text": [
      " hello my name is amit and i am 25 years old\n",
      " hello my name is ajit and i am 26 years old\n"
     ]
    }
   ],
   "source": [
    "#11. Create a class Person with attributes name and age. Add a method greet() that prints \"Hello, my name is {name} and I am {age} years old.\"\n",
    "\n",
    "\n",
    "class person:\n",
    "    def __init__(self,name , age):\n",
    "        self.name=name\n",
    "        self.age=age\n",
    "    def greet(self):\n",
    "        return (F\" hello my name is {self.name} and i am {self.age} years old\")\n",
    "\n",
    "p1 = person(\"amit\",25)\n",
    "p2 = person(\"ajit\",26)\n",
    "print(p1.greet())\n",
    "print(p2.greet())"
   ]
  },
  {
   "cell_type": "code",
   "execution_count": 190,
   "id": "c4bea3be-d60d-4f70-899d-b8de8fa19b13",
   "metadata": {},
   "outputs": [
    {
     "name": "stdout",
     "output_type": "stream",
     "text": [
      "my name is amit my avg. grades is 66.66666666666667 \n",
      "my name is ajit my avg. grades is 86.0 \n"
     ]
    }
   ],
   "source": [
    "#12. Implement a class Student with attributes name and grades. Create a method average_grade() to compute the average of the grades.\n",
    "\n",
    "class student:\n",
    "    def __init__(self,name,grades):\n",
    "        self.name=name\n",
    "        self.grades=grades\n",
    "        \n",
    "    def avg_grades(self):\n",
    "        if self.grades:\n",
    "            return sum(self.grades)/len(self.grades)\n",
    "        return 0\n",
    "\n",
    "s1 = student(\"amit\",[55,67,78])\n",
    "s2 = student(\"ajit\",[78,89,91])\n",
    "\n",
    "print(f\"my name is {s1.name} my avg. grades is {s1.avg_grades()} \")\n",
    "print(f\"my name is {s2.name} my avg. grades is {s2.avg_grades()} \")"
   ]
  },
  {
   "cell_type": "code",
   "execution_count": 198,
   "id": "555d06d0-4bc2-4a10-9ffc-3f3d7d403988",
   "metadata": {},
   "outputs": [
    {
     "name": "stdout",
     "output_type": "stream",
     "text": [
      "area of r1 rectangle : 168\n",
      "area of r2 rectangle : 117\n"
     ]
    }
   ],
   "source": [
    "#13. Create a class Rectangle with methods set_dimensions() to set the dimensions and area() to calculate the area.\n",
    "\n",
    "class rectangle:\n",
    "    def __init__(self,l,b):\n",
    "        self.l=l\n",
    "        self.b=b\n",
    "    def area_rectangle(self):\n",
    "        return self.l*self.b\n",
    "\n",
    "r1 = rectangle(12,14)\n",
    "r2 = rectangle(9,13)\n",
    "print(\"area of r1 rectangle :\",r1.area_rectangle())\n",
    "print(\"area of r2 rectangle :\",r2.area_rectangle())"
   ]
  },
  {
   "cell_type": "code",
   "execution_count": 208,
   "id": "af4aa141-e933-4a1e-8977-69fb273603e8",
   "metadata": {},
   "outputs": [
    {
     "name": "stdout",
     "output_type": "stream",
     "text": [
      "employee's salary : 100000\n",
      "manager's salary : 150000\n"
     ]
    }
   ],
   "source": [
    "#14. Create a class Employee with a method calculate_salary() that computes the salary based on hours worked and hourly rate. Create a derived class Manager that adds a bonus to the salary.\n",
    "\n",
    "class employee:\n",
    "    def __init__(self,name,rate,hours):\n",
    "        self.name=name\n",
    "        self.rate=rate\n",
    "        self.hours=hours\n",
    "    def cal_salary(self):\n",
    "        return self.rate*self.hours\n",
    "\n",
    "class manager(employee):\n",
    "    def __init__(self,name,rate,hours,bouns):\n",
    "        self.name=name\n",
    "        self.rate=rate\n",
    "        self.hours=hours\n",
    "        self.bouns=bouns\n",
    "    def cal_salary(self):\n",
    "        return ((self.rate*self.hours)+self.bouns)\n",
    "\n",
    "e = employee(\"amit\",250,400)\n",
    "m = manager(\"ajit\",400,350,10000)\n",
    "print(\"employee's salary :\" ,e.cal_salary())\n",
    "print(\"manager's salary :\",m.cal_salary())\n",
    "\n"
   ]
  },
  {
   "cell_type": "code",
   "execution_count": 212,
   "id": "7ca5327b-417d-4b92-886d-c1240ab06fe7",
   "metadata": {},
   "outputs": [
    {
     "name": "stdout",
     "output_type": "stream",
     "text": [
      "total price for clay bottle : 9975 \n",
      "total price for ceramic plates : 14175 \n",
      "total price for ceramic mugs : 18800 \n"
     ]
    }
   ],
   "source": [
    "#15. Create a class Product with attributes name, price, and quantity. Implement a method total_price() that calculates the total price of the product.\n",
    "\n",
    "class product:\n",
    "    def __init__(self,pro_name,price,quantity):\n",
    "        self.pro_name=pro_name\n",
    "        self.price=price\n",
    "        self.quantity=quantity\n",
    "    def cal_total_price(self):\n",
    "        return self.quantity*self.price\n",
    "\n",
    "p1 = product(\"clay bottle\",399,25)\n",
    "p2 =product(\"ceramic plates\",189,75)\n",
    "p3 = product(\"ceramic mugs\",235,80)\n",
    "\n",
    "print(f\"total price for {p1.pro_name} : {p1.cal_total_price()} \")\n",
    "print(f\"total price for {p2.pro_name} : {p2.cal_total_price()} \")\n",
    "print(f\"total price for {p3.pro_name} : {p3.cal_total_price()} \")"
   ]
  },
  {
   "cell_type": "code",
   "execution_count": 222,
   "id": "a09ecfcb-931b-442c-a47f-6e3590f50b36",
   "metadata": {},
   "outputs": [
    {
     "name": "stdout",
     "output_type": "stream",
     "text": [
      "cow makes sound like : mwoo\n",
      "sheep makes sound like : meehhee\n"
     ]
    }
   ],
   "source": [
    "#16. Create a class Animal with an abstract method sound(). Create two derived classes Cow and Sheep that implement the sound() method.\n",
    "\n",
    "import abc\n",
    "\n",
    "class animal:\n",
    "    @abstractmethod\n",
    "    def sound(self):\n",
    "        pass\n",
    "\n",
    "class cow(animal):\n",
    "    def sound(self):\n",
    "        return \"mwoo\"\n",
    "\n",
    "class sheep(animal):\n",
    "    def sound(self):\n",
    "        return \"meehhee\"\n",
    "cow=cow()\n",
    "sheep=sheep()\n",
    "print(\"cow makes sound like :\",cow.sound())\n",
    "print(\"sheep makes sound like :\",sheep.sound())"
   ]
  },
  {
   "cell_type": "code",
   "execution_count": 230,
   "id": "22542a20-91e6-4f92-bb5e-778b0c4ea2d5",
   "metadata": {},
   "outputs": [
    {
     "name": "stdout",
     "output_type": "stream",
     "text": [
      "book name :gunaho ka devta\n",
      "author name :dharmveer bharti\n",
      "year of published :1949 \n",
      "book name :psychology of money\n",
      "author name :morgan housel\n",
      "year of published :2020 \n"
     ]
    }
   ],
   "source": [
    "#17. Create a class Book with attributes title, author, and year_published. Add a method get_book_info() that returns a formatted string with the book's details.\n",
    "\n",
    "class book:\n",
    "    def __init__(self,title,author,year_published):\n",
    "        self.title=title\n",
    "        self.author=author\n",
    "        self.year_published=year_published\n",
    "    def get_book_info(self):\n",
    "        return (f\"book name :{self.title}\\nauthor name :{self.author}\\nyear of published :{self.year_published} \")\n",
    "\n",
    "b1 = book(\"gunaho ka devta\",\"dharmveer bharti\",1949)\n",
    "b2 = book(\"psychology of money\",\"morgan housel\",2020)\n",
    "print(b1.get_book_info())\n",
    "print(b2.get_book_info())"
   ]
  },
  {
   "cell_type": "code",
   "execution_count": 234,
   "id": "8f3bb8cf-a7f8-489a-86c7-6e091d9f04e4",
   "metadata": {},
   "outputs": [
    {
     "name": "stdout",
     "output_type": "stream",
     "text": [
      "address : western lane 5th avenue\n",
      "no. of rooms : 5\n",
      "price :  15000000\n"
     ]
    }
   ],
   "source": [
    "#18. Create a class House with attributes address and price. Create a derived class Mansion that adds an attribute number_of_rooms.\n",
    "\n",
    "class house:\n",
    "    def __init__(self,address,price):\n",
    "        self.address=address\n",
    "        self.price=price\n",
    "\n",
    "class mansion(house):\n",
    "    def __init__(self,address,price,no_of_rooms):\n",
    "        self.address=address\n",
    "        self.price=price\n",
    "        self.no_of_rooms=no_of_rooms\n",
    "\n",
    "m = mansion(\"western lane 5th avenue\",15000000,5)\n",
    "print(\"address :\",m.address)\n",
    "print(\"no. of rooms :\",m.no_of_rooms)\n",
    "print(\"price : \",m.price)"
   ]
  },
  {
   "cell_type": "code",
   "execution_count": null,
   "id": "d0863702-0427-46bf-89b6-9e7447807df3",
   "metadata": {},
   "outputs": [],
   "source": []
  },
  {
   "cell_type": "code",
   "execution_count": null,
   "id": "4cf328f5-774a-4eb9-b6bb-5c1540cb2f9f",
   "metadata": {},
   "outputs": [],
   "source": []
  },
  {
   "cell_type": "code",
   "execution_count": null,
   "id": "9dfaed0d-ac0a-4148-a89b-72b067a22145",
   "metadata": {},
   "outputs": [],
   "source": []
  },
  {
   "cell_type": "code",
   "execution_count": null,
   "id": "50f3a1eb-fb2b-4dfe-82c9-2cfc952cd3f8",
   "metadata": {},
   "outputs": [],
   "source": []
  },
  {
   "cell_type": "code",
   "execution_count": null,
   "id": "b18b5d43-e754-41c0-8c18-4808b58ae551",
   "metadata": {},
   "outputs": [],
   "source": []
  }
 ],
 "metadata": {
  "kernelspec": {
   "display_name": "Python [conda env:base] *",
   "language": "python",
   "name": "conda-base-py"
  },
  "language_info": {
   "codemirror_mode": {
    "name": "ipython",
    "version": 3
   },
   "file_extension": ".py",
   "mimetype": "text/x-python",
   "name": "python",
   "nbconvert_exporter": "python",
   "pygments_lexer": "ipython3",
   "version": "3.12.7"
  }
 },
 "nbformat": 4,
 "nbformat_minor": 5
}
